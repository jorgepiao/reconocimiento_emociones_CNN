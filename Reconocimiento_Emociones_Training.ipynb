{
  "cells": [
    {
      "cell_type": "code",
      "execution_count": 1,
      "metadata": {
        "colab": {
          "base_uri": "https://localhost:8080/"
        },
        "id": "8_6K1O3-NO5J",
        "outputId": "fe0a06b0-e947-4e79-e13f-7d34494b3f49"
      },
      "outputs": [
        {
          "output_type": "stream",
          "name": "stdout",
          "text": [
            "--2022-01-10 04:39:24--  https://www.dropbox.com/s/si11cws2pyho1bp/archive.zip\n",
            "Resolving www.dropbox.com (www.dropbox.com)... 162.125.3.18, 2620:100:601b:18::a27d:812\n",
            "Connecting to www.dropbox.com (www.dropbox.com)|162.125.3.18|:443... connected.\n",
            "HTTP request sent, awaiting response... 301 Moved Permanently\n",
            "Location: /s/raw/si11cws2pyho1bp/archive.zip [following]\n",
            "--2022-01-10 04:39:24--  https://www.dropbox.com/s/raw/si11cws2pyho1bp/archive.zip\n",
            "Reusing existing connection to www.dropbox.com:443.\n",
            "HTTP request sent, awaiting response... 302 Found\n",
            "Location: https://uc222017c73d5965bf5148782635.dl.dropboxusercontent.com/cd/0/inline/BdfdFKwmp231pc9Qfg_2vMaqmf_78LGXG0cvExvsZ0S9sJY8kmnrZ_z2mHZVN92cN2r_N-HQHMTjyU5v9yZsV36_L6W9_90IQwGVmjxcTjIXGE32AGeW9kjtT5XiRZAYMeVCmzaGeW96jqf5-szWh9fK/file# [following]\n",
            "--2022-01-10 04:39:24--  https://uc222017c73d5965bf5148782635.dl.dropboxusercontent.com/cd/0/inline/BdfdFKwmp231pc9Qfg_2vMaqmf_78LGXG0cvExvsZ0S9sJY8kmnrZ_z2mHZVN92cN2r_N-HQHMTjyU5v9yZsV36_L6W9_90IQwGVmjxcTjIXGE32AGeW9kjtT5XiRZAYMeVCmzaGeW96jqf5-szWh9fK/file\n",
            "Resolving uc222017c73d5965bf5148782635.dl.dropboxusercontent.com (uc222017c73d5965bf5148782635.dl.dropboxusercontent.com)... 162.125.3.15, 2620:100:6018:15::a27d:30f\n",
            "Connecting to uc222017c73d5965bf5148782635.dl.dropboxusercontent.com (uc222017c73d5965bf5148782635.dl.dropboxusercontent.com)|162.125.3.15|:443... connected.\n",
            "HTTP request sent, awaiting response... 302 Found\n",
            "Location: /cd/0/inline2/Bddq6a-GPlxzBJAyX1p01USS92ZtaGr-AQMcM_lC6NBtIQoF5G3aH5xJkQGqX6nl-3j-LusaSlWBvjhn9Of9T-HsM4dXlsV2_H0gObhdfRbzSGSp5oafO2iF3VM8tjwPhTkdPVKdA1yqVGakLc5MfxKAkwrj1kCaSacDiEDMvluIROyHNSdGk8k876lpnuKeMo4oXGYkqlZW7OMBAmhTlaHKowekzJKJrIzIM8ucQ7BzFnnGihRobe7GHdFZTVx1V-QL_5QP4b-bQynlLqspmNRi1HJjUOoAyuC1586YXBxju8upUDuyx6CjeYmzxkJ_S2eCK34a_ZeMd2F9EzGlArhvmYHDD-BBPNib98rslAZY8jD4a1gvSQQF1VUu3iE6tY4/file [following]\n",
            "--2022-01-10 04:39:24--  https://uc222017c73d5965bf5148782635.dl.dropboxusercontent.com/cd/0/inline2/Bddq6a-GPlxzBJAyX1p01USS92ZtaGr-AQMcM_lC6NBtIQoF5G3aH5xJkQGqX6nl-3j-LusaSlWBvjhn9Of9T-HsM4dXlsV2_H0gObhdfRbzSGSp5oafO2iF3VM8tjwPhTkdPVKdA1yqVGakLc5MfxKAkwrj1kCaSacDiEDMvluIROyHNSdGk8k876lpnuKeMo4oXGYkqlZW7OMBAmhTlaHKowekzJKJrIzIM8ucQ7BzFnnGihRobe7GHdFZTVx1V-QL_5QP4b-bQynlLqspmNRi1HJjUOoAyuC1586YXBxju8upUDuyx6CjeYmzxkJ_S2eCK34a_ZeMd2F9EzGlArhvmYHDD-BBPNib98rslAZY8jD4a1gvSQQF1VUu3iE6tY4/file\n",
            "Reusing existing connection to uc222017c73d5965bf5148782635.dl.dropboxusercontent.com:443.\n",
            "HTTP request sent, awaiting response... 200 OK\n",
            "Length: 63252113 (60M) [application/zip]\n",
            "Saving to: ‘archive.zip’\n",
            "\n",
            "archive.zip         100%[===================>]  60.32M  68.8MB/s    in 0.9s    \n",
            "\n",
            "2022-01-10 04:39:26 (68.8 MB/s) - ‘archive.zip’ saved [63252113/63252113]\n",
            "\n"
          ]
        }
      ],
      "source": [
        "# Descargar dataset\n",
        "!wget https://www.dropbox.com/s/si11cws2pyho1bp/archive.zip"
      ]
    },
    {
      "cell_type": "code",
      "execution_count": 2,
      "metadata": {
        "id": "BQT_DQsTPDzB"
      },
      "outputs": [],
      "source": [
        "# Descomprimir dataset\n",
        "!unzip -q \"/content/archive.zip\""
      ]
    },
    {
      "cell_type": "code",
      "execution_count": 3,
      "metadata": {
        "id": "bbucsZPQhcps"
      },
      "outputs": [],
      "source": [
        "import tensorflow as tf\n",
        "import numpy as np\n",
        "import matplotlib.pyplot as plt\n",
        "from pathlib import Path\n",
        "\n",
        "tf.random.set_seed(4)"
      ]
    },
    {
      "cell_type": "markdown",
      "metadata": {
        "id": "2-LC2rqXDDaA"
      },
      "source": [
        "## Parsear el dataset"
      ]
    },
    {
      "cell_type": "code",
      "execution_count": 4,
      "metadata": {
        "id": "2USniwjMjJlq"
      },
      "outputs": [],
      "source": [
        "# Rutas (path) del dataset\n",
        "train_path = Path(\"/content/train\")\n",
        "test_path = Path(\"/content/test\")"
      ]
    },
    {
      "cell_type": "code",
      "execution_count": 5,
      "metadata": {
        "colab": {
          "base_uri": "https://localhost:8080/"
        },
        "id": "CY8kbQwokLyR",
        "outputId": "5f710175-3a3e-421b-ce6c-48e20625c047"
      },
      "outputs": [
        {
          "output_type": "execute_result",
          "data": {
            "text/plain": [
              "['/content/train/fear/Training_77734669.jpg',\n",
              " '/content/train/fear/Training_34631120.jpg',\n",
              " '/content/train/fear/Training_70042615.jpg',\n",
              " '/content/train/fear/Training_72933913.jpg',\n",
              " '/content/train/fear/Training_39001074.jpg',\n",
              " '/content/train/fear/Training_1497603.jpg',\n",
              " '/content/train/fear/Training_6300419.jpg',\n",
              " '/content/train/fear/Training_48735147.jpg',\n",
              " '/content/train/fear/Training_26552601.jpg',\n",
              " '/content/train/fear/Training_257904.jpg']"
            ]
          },
          "metadata": {},
          "execution_count": 5
        }
      ],
      "source": [
        "# Obtener la ruta de las imagenes de la carpeta de entrenamiento\n",
        "train_image_paths = list(train_path.glob(\"*/*\"))\n",
        "train_image_paths = list(map(lambda x : str(x), train_image_paths))\n",
        "\n",
        "train_image_paths[:10]"
      ]
    },
    {
      "cell_type": "code",
      "execution_count": 6,
      "metadata": {
        "colab": {
          "base_uri": "https://localhost:8080/"
        },
        "id": "nHGWNSp8kcLr",
        "outputId": "f57abae8-c09f-4608-aa04-5da13626d28f"
      },
      "outputs": [
        {
          "output_type": "execute_result",
          "data": {
            "text/plain": [
              "['fear',\n",
              " 'fear',\n",
              " 'fear',\n",
              " 'fear',\n",
              " 'fear',\n",
              " 'fear',\n",
              " 'fear',\n",
              " 'fear',\n",
              " 'fear',\n",
              " 'fear']"
            ]
          },
          "metadata": {},
          "execution_count": 6
        }
      ],
      "source": [
        "# Obtener sus respctivas etiquetas\n",
        "\n",
        "def obtener_etiqueta(image_path):\n",
        "    return image_path.split(\"/\")[-2]\n",
        "\n",
        "train_image_labels = list(map(lambda x : obtener_etiqueta(x), train_image_paths))\n",
        "train_image_labels[:10]"
      ]
    },
    {
      "cell_type": "code",
      "execution_count": 7,
      "metadata": {
        "colab": {
          "base_uri": "https://localhost:8080/"
        },
        "id": "DtBFz9NfknrJ",
        "outputId": "4c4b6e6a-b6c8-412f-9ea6-7bc50eb9979c"
      },
      "outputs": [
        {
          "output_type": "execute_result",
          "data": {
            "text/plain": [
              "array([2, 2, 2, 2, 2, 2, 2, 2, 2, 2])"
            ]
          },
          "metadata": {},
          "execution_count": 7
        }
      ],
      "source": [
        "from sklearn.preprocessing import LabelEncoder \n",
        "\n",
        "Le = LabelEncoder()\n",
        "train_image_labels = Le.fit_transform(train_image_labels)\n",
        "\n",
        "train_image_labels[:10]"
      ]
    },
    {
      "cell_type": "code",
      "execution_count": 8,
      "metadata": {
        "colab": {
          "base_uri": "https://localhost:8080/"
        },
        "id": "HS6UTHa7T-Et",
        "outputId": "5a1e03ed-5853-4a8d-e9eb-b99dd00967ee"
      },
      "outputs": [
        {
          "output_type": "execute_result",
          "data": {
            "text/plain": [
              "array([[0., 0., 1., 0., 0., 0., 0.],\n",
              "       [0., 0., 1., 0., 0., 0., 0.],\n",
              "       [0., 0., 1., 0., 0., 0., 0.],\n",
              "       [0., 0., 1., 0., 0., 0., 0.],\n",
              "       [0., 0., 1., 0., 0., 0., 0.],\n",
              "       [0., 0., 1., 0., 0., 0., 0.],\n",
              "       [0., 0., 1., 0., 0., 0., 0.],\n",
              "       [0., 0., 1., 0., 0., 0., 0.],\n",
              "       [0., 0., 1., 0., 0., 0., 0.],\n",
              "       [0., 0., 1., 0., 0., 0., 0.]], dtype=float32)"
            ]
          },
          "metadata": {},
          "execution_count": 8
        }
      ],
      "source": [
        "train_image_labels = tf.keras.utils.to_categorical(train_image_labels)\n",
        "\n",
        "train_image_labels[:10]"
      ]
    },
    {
      "cell_type": "code",
      "execution_count": 9,
      "metadata": {
        "id": "Ji1Weit-lVDU"
      },
      "outputs": [],
      "source": [
        "from sklearn.model_selection import train_test_split \n",
        "\n",
        "Train_paths, Val_paths, Train_labels, Val_labels = train_test_split(train_image_paths, train_image_labels, test_size=0.25)"
      ]
    },
    {
      "cell_type": "code",
      "execution_count": 10,
      "metadata": {
        "colab": {
          "base_uri": "https://localhost:8080/"
        },
        "id": "VTaelfZtZ27-",
        "outputId": "f92508a9-e199-4c63-ffd7-01200250b45f"
      },
      "outputs": [
        {
          "output_type": "stream",
          "name": "stdout",
          "text": [
            "{0: 1.7953565, 1: 17.238853, 2: 1.756327, 3: 1.0, 4: 1.4633685, 5: 1.4965441, 6: 2.2639062}\n"
          ]
        }
      ],
      "source": [
        "# Compute class weights \n",
        "\n",
        "classTotals = Train_labels.sum(axis=0)\n",
        "classWeight = classTotals.max() / classTotals\n",
        "\n",
        "class_weight = {e : weight for e, weight in enumerate(classWeight)}\n",
        "print(class_weight)"
      ]
    },
    {
      "cell_type": "markdown",
      "metadata": {
        "id": "7oVChU6TDDad"
      },
      "source": [
        "## Cargar y transformar las imagenes"
      ]
    },
    {
      "cell_type": "code",
      "execution_count": 11,
      "metadata": {
        "id": "WayfB4DUlwwP"
      },
      "outputs": [],
      "source": [
        "# Funcion para la transformacion de la imagen\n",
        "\n",
        "def cargar_img(image, label):\n",
        "    image = tf.io.read_file(image)\n",
        "    image = tf.io.decode_jpeg(image, channels=3)\n",
        "    return image, label"
      ]
    },
    {
      "cell_type": "code",
      "execution_count": 12,
      "metadata": {
        "id": "4oJwdwPnR2iI"
      },
      "outputs": [],
      "source": [
        "# Definir el tamaño de imagen (IMG_SIZE) y el tamaño del lote (BATCH_SIZE)\n",
        "IMG_SIZE = 96 \n",
        "BATCH_SIZE = 32\n",
        "\n",
        "# Transformacion basica\n",
        "resize = tf.keras.Sequential([\n",
        "    tf.keras.layers.experimental.preprocessing.Resizing(IMG_SIZE, IMG_SIZE)          \n",
        "])\n",
        "\n",
        "# Data Augmentation\n",
        "data_augmentation = tf.keras.Sequential([\n",
        "    tf.keras.layers.experimental.preprocessing.RandomFlip(\"horizontal\"),\n",
        "    tf.keras.layers.experimental.preprocessing.RandomRotation(0.1),\n",
        "    tf.keras.layers.experimental.preprocessing.RandomZoom(height_factor=(-0.1, -0.05))\n",
        "])"
      ]
    },
    {
      "cell_type": "code",
      "execution_count": 13,
      "metadata": {
        "id": "rR4A_FLKl9Cp"
      },
      "outputs": [],
      "source": [
        "# Crear un objeto de datos de tensorflow\n",
        "\n",
        "AUTOTUNE = tf.data.experimental.AUTOTUNE\n",
        "\n",
        "def obtener_dataset(paths, labels, train=True):\n",
        "    image_paths = tf.convert_to_tensor(paths)\n",
        "    labels = tf.convert_to_tensor(labels)\n",
        "\n",
        "    image_dataset = tf.data.Dataset.from_tensor_slices(image_paths)\n",
        "    label_dataset = tf.data.Dataset.from_tensor_slices(labels)\n",
        "\n",
        "    dataset = tf.data.Dataset.zip((image_dataset, label_dataset))\n",
        "\n",
        "    dataset = dataset.map(lambda image, label : cargar_img(image, label))\n",
        "    dataset = dataset.map(lambda image, label : (resize(image), label), num_parallel_calls=AUTOTUNE)\n",
        "    dataset = dataset.shuffle(1000)\n",
        "    dataset = dataset.batch(BATCH_SIZE)\n",
        "\n",
        "    if train:\n",
        "        dataset = dataset.map(lambda image, label : (data_augmentation(image), label), num_parallel_calls=AUTOTUNE)\n",
        "    \n",
        "    dataset = dataset.repeat()\n",
        "    return dataset"
      ]
    },
    {
      "cell_type": "code",
      "execution_count": 14,
      "metadata": {
        "colab": {
          "base_uri": "https://localhost:8080/"
        },
        "id": "eXbkOIjjoZo4",
        "outputId": "94113ad8-5781-4138-ee4f-ceb713c32e0b"
      },
      "outputs": [
        {
          "output_type": "stream",
          "name": "stdout",
          "text": [
            "CPU times: user 533 ms, sys: 22.5 ms, total: 556 ms\n",
            "Wall time: 611 ms\n",
            "(32, 96, 96, 3)\n",
            "(32, 7)\n"
          ]
        }
      ],
      "source": [
        "# Crear dataset de entrenamiento\n",
        "%time train_dataset = obtener_dataset(Train_paths, Train_labels)\n",
        "\n",
        "image, label = next(iter(train_dataset))\n",
        "print(image.shape)\n",
        "print(label.shape)"
      ]
    },
    {
      "cell_type": "code",
      "execution_count": 15,
      "metadata": {
        "colab": {
          "base_uri": "https://localhost:8080/",
          "height": 302
        },
        "id": "qmEunSLQrmoy",
        "outputId": "434edc31-7b1c-4c1e-df9f-4892aa97b78a"
      },
      "outputs": [
        {
          "output_type": "stream",
          "name": "stdout",
          "text": [
            "happy\n"
          ]
        },
        {
          "output_type": "execute_result",
          "data": {
            "text/plain": [
              "<matplotlib.image.AxesImage at 0x7f4578dfb4d0>"
            ]
          },
          "metadata": {},
          "execution_count": 15
        },
        {
          "output_type": "display_data",
          "data": {
            "image/png": "[encoded data removed]",
            "text/plain": [
              "<Figure size 432x288 with 1 Axes>"
            ]
          },
          "metadata": {
            "needs_background": "light"
          }
        }
      ],
      "source": [
        "# Muestra de una imagen de entrenamiento\n",
        "print(Le.inverse_transform(np.argmax(label, axis=1))[0])\n",
        "plt.imshow((image[0].numpy()/255).reshape(96, 96, 3))"
      ]
    },
    {
      "cell_type": "code",
      "execution_count": 16,
      "metadata": {
        "colab": {
          "base_uri": "https://localhost:8080/"
        },
        "id": "Xi9IJStcoc6M",
        "outputId": "46fab8ba-0f7a-46d0-d7c5-47085188d15a"
      },
      "outputs": [
        {
          "output_type": "stream",
          "name": "stdout",
          "text": [
            "CPU times: user 30.5 ms, sys: 0 ns, total: 30.5 ms\n",
            "Wall time: 31 ms\n",
            "(32, 96, 96, 3)\n",
            "(32, 7)\n"
          ]
        }
      ],
      "source": [
        "# Crear dataset de validacion\n",
        "%time val_dataset = obtener_dataset(Val_paths, Val_labels, train=False)\n",
        "\n",
        "image, label = next(iter(val_dataset))\n",
        "print(image.shape)\n",
        "print(label.shape)"
      ]
    },
    {
      "cell_type": "code",
      "execution_count": 17,
      "metadata": {
        "colab": {
          "base_uri": "https://localhost:8080/",
          "height": 302
        },
        "id": "b_gqj-vjvErp",
        "outputId": "01a520f5-d9ae-443c-939d-c6933632b54a"
      },
      "outputs": [
        {
          "output_type": "stream",
          "name": "stdout",
          "text": [
            "surprise\n"
          ]
        },
        {
          "output_type": "execute_result",
          "data": {
            "text/plain": [
              "<matplotlib.image.AxesImage at 0x7f4578636c90>"
            ]
          },
          "metadata": {},
          "execution_count": 17
        },
        {
          "output_type": "display_data",
          "data": {
            "image/png": "[encoded data removed]",
            "text/plain": [
              "<Figure size 432x288 with 1 Axes>"
            ]
          },
          "metadata": {
            "needs_background": "light"
          }
        }
      ],
      "source": [
        "# Muestra de una imagen de validacion\n",
        "print(Le.inverse_transform(np.argmax(label, axis=1))[0])\n",
        "plt.imshow((image[0].numpy()/255).reshape(96, 96, 3))"
      ]
    },
    {
      "cell_type": "markdown",
      "metadata": {
        "id": "owqFIhxKDDax"
      },
      "source": [
        "## Construir y entrenar el modelo"
      ]
    },
    {
      "cell_type": "code",
      "execution_count": 18,
      "metadata": {
        "colab": {
          "base_uri": "https://localhost:8080/"
        },
        "id": "9e32BWRjUuV6",
        "outputId": "cbfc56b5-c757-4101-8209-83182f4ec5fd"
      },
      "outputs": [
        {
          "output_type": "stream",
          "name": "stdout",
          "text": [
            "Downloading data from https://storage.googleapis.com/keras-applications/efficientnetb2_notop.h5\n",
            "31793152/31790344 [==============================] - 0s 0us/step\n",
            "31801344/31790344 [==============================] - 0s 0us/step\n",
            "Model: \"sequential_2\"\n",
            "_________________________________________________________________\n",
            " Layer (type)                Output Shape              Param #   \n",
            "=================================================================\n",
            " efficientnetb2 (Functional)  (None, 3, 3, 1408)       7768569   \n",
            "                                                                 \n",
            " global_average_pooling2d (G  (None, 1408)             0         \n",
            " lobalAveragePooling2D)                                          \n",
            "                                                                 \n",
            " dropout (Dropout)           (None, 1408)              0         \n",
            "                                                                 \n",
            " dense (Dense)               (None, 128)               180352    \n",
            "                                                                 \n",
            " dense_1 (Dense)             (None, 7)                 903       \n",
            "                                                                 \n",
            "=================================================================\n",
            "Total params: 7,949,824\n",
            "Trainable params: 7,882,249\n",
            "Non-trainable params: 67,575\n",
            "_________________________________________________________________\n"
          ]
        }
      ],
      "source": [
        "# Contruir modelo EfficientNet\n",
        "from tensorflow.keras.applications import EfficientNetB2\n",
        "\n",
        "backbone = EfficientNetB2(\n",
        "    input_shape=(96, 96, 3),\n",
        "    include_top=False\n",
        ")\n",
        "\n",
        "model = tf.keras.Sequential([\n",
        "    backbone,\n",
        "    tf.keras.layers.GlobalAveragePooling2D(),\n",
        "    tf.keras.layers.Dropout(0.3),\n",
        "    tf.keras.layers.Dense(128, activation='relu'),\n",
        "    tf.keras.layers.Dense(7, activation='softmax')\n",
        "])\n",
        "\n",
        "model.summary()"
      ]
    },
    {
      "cell_type": "code",
      "execution_count": 19,
      "metadata": {
        "id": "crnP0rolUy0O"
      },
      "outputs": [],
      "source": [
        "# Compilar el modelo\n",
        "model.compile(\n",
        "    optimizer = tf.keras.optimizers.Adam(learning_rate=0.001, beta_1=0.9, beta_2=0.999, epsilon=1e-07),\n",
        "    loss = 'categorical_crossentropy',\n",
        "    metrics = ['accuracy', tf.keras.metrics.Precision(name='precision'), tf.keras.metrics.Recall(name='recall')]\n",
        ")"
      ]
    },
    {
      "cell_type": "markdown",
      "metadata": {
        "id": "rjtb_ikODDa1"
      },
      "source": [
        "El dataset consta de muchas imagenes y el problema a resolver es de multiclase. Es por esto que debemos tener cuidado con el sobre entrenamiento (overfitting).\n",
        "\n",
        "Para evitar esto, el entrenamiento se hara en 2 fases:\n",
        "\n",
        "Fase 1 - Capa convolucional para aprender los patrones de los datos.  \n",
        "Fsae 2 - Congelamos todas las capas del modelo y solo entrenamos las ultimas capas donde hacemos la clasificacion."
      ]
    },
    {
      "cell_type": "markdown",
      "metadata": {
        "id": "KBkdma5DDDa3"
      },
      "source": [
        "## Fase 1"
      ]
    },
    {
      "cell_type": "code",
      "execution_count": 20,
      "metadata": {
        "colab": {
          "base_uri": "https://localhost:8080/"
        },
        "id": "bATVPoL4xtyJ",
        "outputId": "ad89e362-e40d-4c41-db78-02c30b1b9aef"
      },
      "outputs": [
        {
          "output_type": "stream",
          "name": "stdout",
          "text": [
            "Epoch 1/12\n",
            "672/672 [==============================] - 190s 247ms/step - loss: 2.8433 - accuracy: 0.3897 - precision: 0.6283 - recall: 0.1741 - val_loss: 1.3866 - val_accuracy: 0.4738 - val_precision: 0.6512 - val_recall: 0.3037\n",
            "Epoch 2/12\n",
            "672/672 [==============================] - 170s 251ms/step - loss: 2.3989 - accuracy: 0.4842 - precision: 0.6910 - recall: 0.2762 - val_loss: 1.4376 - val_accuracy: 0.4393 - val_precision: 0.6028 - val_recall: 0.2930\n",
            "Epoch 3/12\n",
            "672/672 [==============================] - 163s 242ms/step - loss: 2.2508 - accuracy: 0.5177 - precision: 0.6954 - recall: 0.3243 - val_loss: 1.2664 - val_accuracy: 0.5234 - val_precision: 0.7074 - val_recall: 0.3336\n",
            "Epoch 4/12\n",
            "672/672 [==============================] - 161s 240ms/step - loss: 2.1566 - accuracy: 0.5328 - precision: 0.7053 - recall: 0.3448 - val_loss: 1.2528 - val_accuracy: 0.5225 - val_precision: 0.7271 - val_recall: 0.3491\n",
            "Epoch 5/12\n",
            "672/672 [==============================] - 161s 240ms/step - loss: 2.0547 - accuracy: 0.5610 - precision: 0.7147 - recall: 0.3819 - val_loss: 1.4219 - val_accuracy: 0.4693 - val_precision: 0.6000 - val_recall: 0.3189\n",
            "Epoch 6/12\n",
            "672/672 [==============================] - 161s 240ms/step - loss: 2.0113 - accuracy: 0.5692 - precision: 0.7230 - recall: 0.3922 - val_loss: 1.4689 - val_accuracy: 0.5126 - val_precision: 0.6000 - val_recall: 0.3816\n",
            "Epoch 7/12\n",
            "672/672 [==============================] - 161s 240ms/step - loss: 1.9595 - accuracy: 0.5707 - precision: 0.7110 - recall: 0.4054 - val_loss: 1.3344 - val_accuracy: 0.5282 - val_precision: 0.6147 - val_recall: 0.4432\n",
            "Epoch 8/12\n",
            "672/672 [==============================] - 161s 240ms/step - loss: 1.9142 - accuracy: 0.5811 - precision: 0.7311 - recall: 0.4189 - val_loss: 1.1844 - val_accuracy: 0.5633 - val_precision: 0.6848 - val_recall: 0.4417\n",
            "Epoch 9/12\n",
            "672/672 [==============================] - 161s 240ms/step - loss: 1.8540 - accuracy: 0.5941 - precision: 0.7320 - recall: 0.4366 - val_loss: 1.4218 - val_accuracy: 0.5015 - val_precision: 0.6042 - val_recall: 0.3729\n",
            "Epoch 10/12\n",
            "672/672 [==============================] - 161s 240ms/step - loss: 1.7774 - accuracy: 0.6084 - precision: 0.7387 - recall: 0.4577 - val_loss: 1.1790 - val_accuracy: 0.5700 - val_precision: 0.7041 - val_recall: 0.4230\n",
            "Epoch 11/12\n",
            "672/672 [==============================] - 161s 240ms/step - loss: 1.7754 - accuracy: 0.6100 - precision: 0.7417 - recall: 0.4651 - val_loss: 1.1828 - val_accuracy: 0.5776 - val_precision: 0.6683 - val_recall: 0.4833\n",
            "Epoch 12/12\n",
            "672/672 [==============================] - 161s 240ms/step - loss: 1.7452 - accuracy: 0.6130 - precision: 0.7393 - recall: 0.4710 - val_loss: 1.0690 - val_accuracy: 0.6031 - val_precision: 0.7158 - val_recall: 0.4870\n"
          ]
        }
      ],
      "source": [
        "# Entrenamiento del modelo\n",
        "history = model.fit(\n",
        "    train_dataset,\n",
        "    steps_per_epoch = len(Train_paths)//BATCH_SIZE,\n",
        "    epochs = 12,\n",
        "    validation_data = val_dataset,\n",
        "    validation_steps = len(Val_paths)//BATCH_SIZE,\n",
        "    class_weight = class_weight\n",
        ")"
      ]
    },
    {
      "cell_type": "code",
      "execution_count": 21,
      "metadata": {
        "id": "28vylx4DyDBS"
      },
      "outputs": [],
      "source": [
        "model.layers[0].trainable = False"
      ]
    },
    {
      "cell_type": "code",
      "execution_count": 22,
      "metadata": {
        "id": "U8r6G0RVU3c2"
      },
      "outputs": [],
      "source": [
        "# Definir callbacks\n",
        "checkpoint = tf.keras.callbacks.ModelCheckpoint(\"best_weights.h5\", verbose=1, save_best_only=True, save_weights_only=True)\n",
        "early_stop = tf.keras.callbacks.EarlyStopping(patience=4)"
      ]
    },
    {
      "cell_type": "code",
      "execution_count": 23,
      "metadata": {
        "colab": {
          "base_uri": "https://localhost:8080/"
        },
        "id": "Gn0a29MW0s5c",
        "outputId": "c5f06cbb-f103-4cdb-d7dc-27bc77efda31"
      },
      "outputs": [
        {
          "output_type": "stream",
          "name": "stdout",
          "text": [
            "Model: \"sequential_2\"\n",
            "_________________________________________________________________\n",
            " Layer (type)                Output Shape              Param #   \n",
            "=================================================================\n",
            " efficientnetb2 (Functional)  (None, 3, 3, 1408)       7768569   \n",
            "                                                                 \n",
            " global_average_pooling2d (G  (None, 1408)             0         \n",
            " lobalAveragePooling2D)                                          \n",
            "                                                                 \n",
            " dropout (Dropout)           (None, 1408)              0         \n",
            "                                                                 \n",
            " dense (Dense)               (None, 128)               180352    \n",
            "                                                                 \n",
            " dense_1 (Dense)             (None, 7)                 903       \n",
            "                                                                 \n",
            "=================================================================\n",
            "Total params: 7,949,824\n",
            "Trainable params: 181,255\n",
            "Non-trainable params: 7,768,569\n",
            "_________________________________________________________________\n"
          ]
        }
      ],
      "source": [
        "model.summary()"
      ]
    },
    {
      "cell_type": "markdown",
      "metadata": {
        "id": "-YINhi8vDDa8"
      },
      "source": [
        "## Fase 2"
      ]
    },
    {
      "cell_type": "code",
      "execution_count": 24,
      "metadata": {
        "colab": {
          "base_uri": "https://localhost:8080/"
        },
        "id": "1IeOU2kKU5OT",
        "outputId": "bec07695-18e6-4739-d97b-97cf548b9b04"
      },
      "outputs": [
        {
          "output_type": "stream",
          "name": "stdout",
          "text": [
            "Epoch 1/8\n",
            "672/672 [==============================] - ETA: 0s - loss: 1.6898 - accuracy: 0.6225 - precision: 0.7480 - recall: 0.4829\n",
            "Epoch 00001: val_loss improved from inf to 1.07855, saving model to best_weights.h5\n",
            "672/672 [==============================] - 162s 241ms/step - loss: 1.6898 - accuracy: 0.6225 - precision: 0.7480 - recall: 0.4829 - val_loss: 1.0785 - val_accuracy: 0.6014 - val_precision: 0.7085 - val_recall: 0.4971\n",
            "Epoch 2/8\n",
            "672/672 [==============================] - ETA: 0s - loss: 1.6414 - accuracy: 0.6328 - precision: 0.7509 - recall: 0.4996\n",
            "Epoch 00002: val_loss did not improve from 1.07855\n",
            "672/672 [==============================] - 161s 239ms/step - loss: 1.6414 - accuracy: 0.6328 - precision: 0.7509 - recall: 0.4996 - val_loss: 1.1285 - val_accuracy: 0.5897 - val_precision: 0.6987 - val_recall: 0.4640\n",
            "Epoch 3/8\n",
            "672/672 [==============================] - ETA: 0s - loss: 1.6084 - accuracy: 0.6391 - precision: 0.7531 - recall: 0.5111\n",
            "Epoch 00003: val_loss did not improve from 1.07855\n",
            "672/672 [==============================] - 161s 240ms/step - loss: 1.6084 - accuracy: 0.6391 - precision: 0.7531 - recall: 0.5111 - val_loss: 1.1099 - val_accuracy: 0.5970 - val_precision: 0.6941 - val_recall: 0.5018\n",
            "Epoch 4/8\n",
            "672/672 [==============================] - ETA: 0s - loss: 1.5617 - accuracy: 0.6468 - precision: 0.7516 - recall: 0.5241\n",
            "Epoch 00004: val_loss improved from 1.07855 to 1.06013, saving model to best_weights.h5\n",
            "672/672 [==============================] - 162s 241ms/step - loss: 1.5617 - accuracy: 0.6468 - precision: 0.7516 - recall: 0.5241 - val_loss: 1.0601 - val_accuracy: 0.6088 - val_precision: 0.7036 - val_recall: 0.5232\n",
            "Epoch 5/8\n",
            "672/672 [==============================] - ETA: 0s - loss: 1.5880 - accuracy: 0.6431 - precision: 0.7543 - recall: 0.5200\n",
            "Epoch 00005: val_loss improved from 1.06013 to 1.05367, saving model to best_weights.h5\n",
            "672/672 [==============================] - 162s 242ms/step - loss: 1.5880 - accuracy: 0.6431 - precision: 0.7543 - recall: 0.5200 - val_loss: 1.0537 - val_accuracy: 0.6062 - val_precision: 0.7084 - val_recall: 0.5080\n",
            "Epoch 6/8\n",
            "672/672 [==============================] - ETA: 0s - loss: 1.5128 - accuracy: 0.6579 - precision: 0.7629 - recall: 0.5439\n",
            "Epoch 00006: val_loss did not improve from 1.05367\n",
            "672/672 [==============================] - 161s 240ms/step - loss: 1.5128 - accuracy: 0.6579 - precision: 0.7629 - recall: 0.5439 - val_loss: 1.2389 - val_accuracy: 0.5635 - val_precision: 0.6684 - val_recall: 0.4561\n",
            "Epoch 7/8\n",
            "672/672 [==============================] - ETA: 0s - loss: 1.4819 - accuracy: 0.6644 - precision: 0.7640 - recall: 0.5537\n",
            "Epoch 00007: val_loss did not improve from 1.05367\n",
            "672/672 [==============================] - 161s 240ms/step - loss: 1.4819 - accuracy: 0.6644 - precision: 0.7640 - recall: 0.5537 - val_loss: 1.3227 - val_accuracy: 0.5629 - val_precision: 0.6276 - val_recall: 0.4994\n",
            "Epoch 8/8\n",
            "672/672 [==============================] - ETA: 0s - loss: 1.4370 - accuracy: 0.6739 - precision: 0.7671 - recall: 0.5629\n",
            "Epoch 00008: val_loss did not improve from 1.05367\n",
            "672/672 [==============================] - 161s 240ms/step - loss: 1.4370 - accuracy: 0.6739 - precision: 0.7671 - recall: 0.5629 - val_loss: 1.0888 - val_accuracy: 0.6094 - val_precision: 0.6890 - val_recall: 0.5273\n"
          ]
        }
      ],
      "source": [
        "# Entrenar modelo\n",
        "history = model.fit(\n",
        "    train_dataset,\n",
        "    steps_per_epoch = len(Train_paths)//BATCH_SIZE,\n",
        "    epochs = 8,\n",
        "    callbacks = [checkpoint, early_stop],\n",
        "    validation_data = val_dataset,\n",
        "    validation_steps = len(Val_paths)//BATCH_SIZE,\n",
        "    class_weight = class_weight\n",
        ")"
      ]
    },
    {
      "cell_type": "markdown",
      "metadata": {
        "id": "vU6Sq7xag7t8"
      },
      "source": [
        "## Evaluar y guardar el modelo"
      ]
    },
    {
      "cell_type": "code",
      "execution_count": 25,
      "metadata": {
        "id": "71WlFdcafnAc"
      },
      "outputs": [],
      "source": [
        "from tensorflow.keras.applications import EfficientNetB2\n",
        "\n",
        "backbone = EfficientNetB2(\n",
        "    input_shape = (96, 96, 3),\n",
        "    include_top = False\n",
        ")\n",
        "\n",
        "model = tf.keras.Sequential([\n",
        "    backbone,\n",
        "    tf.keras.layers.GlobalAveragePooling2D(),\n",
        "    tf.keras.layers.Dropout(0.3),\n",
        "    tf.keras.layers.Dense(128, activation='relu'),\n",
        "    tf.keras.layers.Dense(7, activation='softmax')\n",
        "])\n",
        "\n",
        "model.compile(\n",
        "    optimizer = tf.keras.optimizers.Adam(learning_rate=0.001, beta_1=0.9, beta_2=0.999, epsilon=1e-07),\n",
        "    loss = 'categorical_crossentropy',\n",
        "    metrics = ['accuracy', tf.keras.metrics.Precision(name='precision'), tf.keras.metrics.Recall(name='recall')]\n",
        ")"
      ]
    },
    {
      "cell_type": "code",
      "execution_count": 26,
      "metadata": {
        "id": "kh91u_fgyKyL"
      },
      "outputs": [],
      "source": [
        "model.load_weights(\"best_weights.h5\")"
      ]
    },
    {
      "cell_type": "code",
      "execution_count": 27,
      "metadata": {
        "id": "zaIUk_NRVJVJ"
      },
      "outputs": [],
      "source": [
        "# Crear un objeto del dataset 'probar' al igual que para el entrenamiento y la validación\n",
        "test_image_paths = list(test_path.glob(\"*/*\"))\n",
        "test_image_paths = list(map(lambda x : str(x), test_image_paths))\n",
        "test_labels = list(map(lambda x : obtener_etiqueta(x), test_image_paths))\n",
        "\n",
        "test_labels = Le.transform(test_labels)\n",
        "test_labels = tf.keras.utils.to_categorical(test_labels)\n",
        "\n",
        "test_image_paths = tf.convert_to_tensor(test_image_paths)\n",
        "test_labels = tf.convert_to_tensor(test_labels)\n",
        "\n",
        "def decode_imagen(image , label):\n",
        "    image = tf.io.read_file(image)\n",
        "    image = tf.io.decode_jpeg(image, channels=3)\n",
        "    image = tf.image.resize(image, [96 , 96], method=\"bilinear\")\n",
        "    return image, label\n",
        "\n",
        "test_dataset = (\n",
        "     tf.data.Dataset\n",
        "    .from_tensor_slices((test_image_paths, test_labels))\n",
        "    .map(decode_imagen)\n",
        "    .batch(BATCH_SIZE)\n",
        ")"
      ]
    },
    {
      "cell_type": "code",
      "execution_count": 28,
      "metadata": {
        "colab": {
          "base_uri": "https://localhost:8080/"
        },
        "id": "uBIDOhxee0My",
        "outputId": "ee1da3f8-28d8-4536-f9b2-7f558b640361"
      },
      "outputs": [
        {
          "output_type": "stream",
          "name": "stdout",
          "text": [
            "(32, 96, 96, 3)\n",
            "(32, 7)\n"
          ]
        }
      ],
      "source": [
        "# Verificar el objeto del dataset de prueba\n",
        "image, label = next(iter(test_dataset))\n",
        "print(image.shape)\n",
        "print(label.shape)"
      ]
    },
    {
      "cell_type": "code",
      "execution_count": 29,
      "metadata": {
        "colab": {
          "base_uri": "https://localhost:8080/",
          "height": 302
        },
        "id": "4ZGD3ogge2V-",
        "outputId": "0d72e83c-2b1f-4727-f9cb-ed5399db42e5"
      },
      "outputs": [
        {
          "output_type": "stream",
          "name": "stdout",
          "text": [
            "fear\n"
          ]
        },
        {
          "output_type": "execute_result",
          "data": {
            "text/plain": [
              "<matplotlib.image.AxesImage at 0x7f44f9321d90>"
            ]
          },
          "metadata": {},
          "execution_count": 29
        },
        {
          "output_type": "display_data",
          "data": {
            "image/png": "[encoded data removed]",
            "text/plain": [
              "<Figure size 432x288 with 1 Axes>"
            ]
          },
          "metadata": {
            "needs_background": "light"
          }
        }
      ],
      "source": [
        "# Muestra de una imagen de validacion\n",
        "print(Le.inverse_transform(np.argmax(label, axis=1))[0])\n",
        "plt.imshow((image[0].numpy()/255).reshape(96, 96, 3))"
      ]
    },
    {
      "cell_type": "code",
      "execution_count": 30,
      "metadata": {
        "colab": {
          "base_uri": "https://localhost:8080/"
        },
        "id": "H8nmdlL5e4LB",
        "outputId": "794ba643-bef1-402f-ddd2-336127789fda"
      },
      "outputs": [
        {
          "output_type": "stream",
          "name": "stdout",
          "text": [
            "225/225 [==============================] - 19s 66ms/step - loss: 1.0649 - accuracy: 0.6130 - precision: 0.7090 - recall: 0.5137\n",
            " Testing Acc :  0.6129841208457947\n",
            " Testing Precision  0.7090384364128113\n",
            " Testing Recall  0.5136528015136719\n"
          ]
        }
      ],
      "source": [
        "# Evaluar el modelo cargado\n",
        "loss, acc, prec, rec = model.evaluate(test_dataset)\n",
        "\n",
        "print(\" Testing Acc : \", acc)\n",
        "print(\" Testing Precision \", prec)\n",
        "print(\" Testing Recall \", rec)"
      ]
    },
    {
      "cell_type": "markdown",
      "metadata": {
        "id": "EvKEpP1yaX8u"
      },
      "source": [
        "## Guardar objetos"
      ]
    },
    {
      "cell_type": "code",
      "execution_count": 31,
      "metadata": {
        "colab": {
          "base_uri": "https://localhost:8080/"
        },
        "id": "6FG-gDVcaZgN",
        "outputId": "2d991af4-6f84-4a10-9d83-af09e2bae56d"
      },
      "outputs": [
        {
          "output_type": "stream",
          "name": "stderr",
          "text": [
            "/usr/local/lib/python3.7/dist-packages/keras/engine/functional.py:1410: CustomMaskWarning: Custom mask layers require a config and must override get_config. When loading, the custom mask layer must be passed to the custom_objects argument.\n",
            "  layer_config = serialize_layer_fn(layer)\n"
          ]
        }
      ],
      "source": [
        "# Guardar el modelo\n",
        "model.save(\"FacialExpressionModel.h5\")"
      ]
    },
    {
      "cell_type": "code",
      "execution_count": 32,
      "metadata": {
        "id": "_anLO5GWadh1"
      },
      "outputs": [],
      "source": [
        "# Guardar el Label Encoder \n",
        "import pickle\n",
        "\n",
        "def guardar_obj(obj, name):\n",
        "    pickle_obj = open(f\"{name}.pck\",\"wb\")\n",
        "    pickle.dump(obj, pickle_obj)\n",
        "    pickle_obj.close()"
      ]
    },
    {
      "cell_type": "code",
      "execution_count": 33,
      "metadata": {
        "id": "5GiwShNva4Z4"
      },
      "outputs": [],
      "source": [
        "guardar_obj(Le, \"LabelEncoder\")"
      ]
    }
  ],
  "metadata": {
    "accelerator": "GPU",
    "colab": {
      "collapsed_sections": [],
      "name": "Reconocimiento_Emociones_Training (traducido).ipynb",
      "provenance": []
    },
    "kernelspec": {
      "display_name": "Python 3",
      "name": "python3"
    }
  },
  "nbformat": 4,
  "nbformat_minor": 0
}